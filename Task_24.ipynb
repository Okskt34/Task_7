{
 "cells": [
  {
   "cell_type": "code",
   "execution_count": 1,
   "id": "cd5c7cd8",
   "metadata": {},
   "outputs": [],
   "source": [
    "P_A = 40 / (40 + 60)"
   ]
  },
  {
   "cell_type": "code",
   "execution_count": 2,
   "id": "fc6ef7bc",
   "metadata": {},
   "outputs": [],
   "source": [
    "P_B_given_A = 0.1"
   ]
  },
  {
   "cell_type": "code",
   "execution_count": 3,
   "id": "02a53dc6",
   "metadata": {},
   "outputs": [],
   "source": [
    "P_B_given_not_A = 0.2"
   ]
  },
  {
   "cell_type": "code",
   "execution_count": 4,
   "id": "e8fed4d9",
   "metadata": {},
   "outputs": [],
   "source": [
    "P_B = P_B_given_A * P_A + P_B_given_not_A * (1 - P_A)"
   ]
  },
  {
   "cell_type": "code",
   "execution_count": 5,
   "id": "b70caaaa",
   "metadata": {},
   "outputs": [],
   "source": [
    "P_A_given_B = (P_B_given_A * P_A) / P_B"
   ]
  },
  {
   "cell_type": "code",
   "execution_count": 6,
   "id": "6e6ceff0",
   "metadata": {},
   "outputs": [
    {
     "name": "stdout",
     "output_type": "stream",
     "text": [
      "Ймовірність того, що документ склав перший економіст: 0.25000000000000006\n"
     ]
    }
   ],
   "source": [
    "print(f\"Ймовірність того, що документ склав перший економіст: {P_A_given_B}\")"
   ]
  },
  {
   "cell_type": "code",
   "execution_count": 7,
   "id": "ed78c22c",
   "metadata": {},
   "outputs": [],
   "source": [
    "table_X = [\n",
    "    [1000, 0.5],\n",
    "    [1500, 0.3],\n",
    "    [2000, 0.2]\n",
    "]"
   ]
  },
  {
   "cell_type": "code",
   "execution_count": 8,
   "id": "251a89ea",
   "metadata": {},
   "outputs": [],
   "source": [
    "table_Y = [\n",
    "    [1000, 0.4],\n",
    "    [1500, 0.4],\n",
    "    [1750, 0.2]\n",
    "]"
   ]
  },
  {
   "cell_type": "code",
   "execution_count": 9,
   "id": "fe6d935e",
   "metadata": {},
   "outputs": [],
   "source": [
    "E_X = sum(value * probability for value, probability in table_X)"
   ]
  },
  {
   "cell_type": "code",
   "execution_count": 10,
   "id": "a6a8e38c",
   "metadata": {},
   "outputs": [],
   "source": [
    "E_Y = sum(value * probability for value, probability in table_Y)"
   ]
  },
  {
   "cell_type": "code",
   "execution_count": 11,
   "id": "7bad4da0",
   "metadata": {},
   "outputs": [],
   "source": [
    "if E_X > E_Y:\n",
    "    decision = \"Випуск і реалізація набору X є більш вигідним\"\n",
    "else:\n",
    "    decision = \"Випуск і реалізація набору Y є більш вигідним\""
   ]
  },
  {
   "cell_type": "code",
   "execution_count": 12,
   "id": "db0efe2d",
   "metadata": {},
   "outputs": [
    {
     "name": "stdout",
     "output_type": "stream",
     "text": [
      "Випуск і реалізація набору Y є більш вигідним\n"
     ]
    }
   ],
   "source": [
    "print(decision)"
   ]
  },
  {
   "cell_type": "code",
   "execution_count": null,
   "id": "acad9130",
   "metadata": {},
   "outputs": [],
   "source": []
  }
 ],
 "metadata": {
  "kernelspec": {
   "display_name": "Python 3 (ipykernel)",
   "language": "python",
   "name": "python3"
  },
  "language_info": {
   "codemirror_mode": {
    "name": "ipython",
    "version": 3
   },
   "file_extension": ".py",
   "mimetype": "text/x-python",
   "name": "python",
   "nbconvert_exporter": "python",
   "pygments_lexer": "ipython3",
   "version": "3.10.9"
  }
 },
 "nbformat": 4,
 "nbformat_minor": 5
}
